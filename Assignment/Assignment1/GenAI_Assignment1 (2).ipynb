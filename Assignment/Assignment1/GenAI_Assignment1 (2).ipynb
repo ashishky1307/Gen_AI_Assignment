{
  "nbformat": 4,
  "nbformat_minor": 0,
  "metadata": {
    "colab": {
      "provenance": []
    },
    "kernelspec": {
      "name": "python3",
      "display_name": "Python 3"
    },
    "language_info": {
      "name": "python"
    }
  },
  "cells": [
    {
      "cell_type": "code",
      "execution_count": 1,
      "metadata": {
        "id": "0f1kZ52rVE-T"
      },
      "outputs": [],
      "source": [
        "import random\n",
        "from collections import defaultdict"
      ]
    },
    {
      "cell_type": "code",
      "source": [
        "class MarkovChain:\n",
        "    def __init__(self):\n",
        "        self.chain = defaultdict(list)\n",
        "\n",
        "    def train(self, text, n=1):\n",
        "        words = text.split()\n",
        "        for i in range(len(words) - n):\n",
        "            key = tuple(words[i:i+n])\n",
        "            next_word = words[i+n]\n",
        "            self.chain[key].append(next_word)\n",
        "\n",
        "    def generate_text(self, length=50, n=1):\n",
        "        start_key = random.choice(list(self.chain.keys()))\n",
        "        generated_words = list(start_key)\n",
        "\n",
        "        for _ in range(length - n):\n",
        "            current_key = tuple(generated_words[-n:])\n",
        "            next_words = self.chain.get(current_key)\n",
        "            if not next_words:\n",
        "                break\n",
        "            next_word = random.choice(next_words)\n",
        "            generated_words.append(next_word)\n",
        "\n",
        "        return ' '.join(generated_words)"
      ],
      "metadata": {
        "id": "M-naFd3mVIsa"
      },
      "execution_count": 2,
      "outputs": []
    },
    {
      "cell_type": "code",
      "source": [
        "\n",
        "text = \"\"\"\n",
        "The world population has been growing rapidly over the past few decades, with current estimates exceeding 8 billion people. Asia remains the most densely populated continent, housing over half of the global population. Technological advancements, improvements in healthcare, and better agricultural practices have all contributed to population growth. However, concerns about overpopulation, resource depletion, and climate change have become increasingly relevant.\n",
        "\"\"\""
      ],
      "metadata": {
        "id": "qV1GiBJlVMho"
      },
      "execution_count": 3,
      "outputs": []
    },
    {
      "cell_type": "code",
      "source": [
        "# Create the Markov Chain\n",
        "markov = MarkovChain()"
      ],
      "metadata": {
        "id": "4h5Eo_x7VPL-"
      },
      "execution_count": 4,
      "outputs": []
    },
    {
      "cell_type": "code",
      "source": [
        "# Train the model with the input text\n",
        "markov.train(text, n=1)"
      ],
      "metadata": {
        "id": "FILJokD9VRYh"
      },
      "execution_count": 5,
      "outputs": []
    },
    {
      "cell_type": "code",
      "source": [
        "# Generate text\n",
        "generated_text = markov.generate_text(length=50, n=1)\n",
        "print(generated_text)"
      ],
      "metadata": {
        "colab": {
          "base_uri": "https://localhost:8080/"
        },
        "id": "VxUczMZoVg5W",
        "outputId": "f5e21342-1b76-4a33-fd61-a9d779e21c12"
      },
      "execution_count": 8,
      "outputs": [
        {
          "output_type": "stream",
          "name": "stdout",
          "text": [
            "the most densely populated continent, housing over the most densely populated continent, housing over half of the global population. Technological advancements, improvements in healthcare, and climate change have all contributed to population has been growing rapidly over half of the global population. Technological advancements, improvements in healthcare, and climate change\n"
          ]
        }
      ]
    }
  ]
}